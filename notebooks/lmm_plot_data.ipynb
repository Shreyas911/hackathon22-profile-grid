{
 "cells": [
  {
   "cell_type": "markdown",
   "id": "864887ec-3f81-4d15-abce-87bf276440b9",
   "metadata": {},
   "source": [
    "# Plot data"
   ]
  },
  {
   "cell_type": "markdown",
   "id": "327ab114-e072-4b3b-8052-6ca10d3be641",
   "metadata": {},
   "source": [
    "Using functions from https://github.com/sanil72900/argo_notebook/blob/main/lesson_one.ipynb"
   ]
  },
  {
   "cell_type": "markdown",
   "id": "9a9165fd-59b8-47a1-8c5a-a3ceefe1ef94",
   "metadata": {},
   "source": [
    "## To use, need to install ipywidgets to environment"
   ]
  },
  {
   "cell_type": "markdown",
   "id": "94a5c41c-216b-40fb-86f5-fe503da215c5",
   "metadata": {},
   "source": [
    "## Import packages"
   ]
  },
  {
   "cell_type": "code",
   "execution_count": 1,
   "id": "42653403-e899-4767-a367-b3446417c3dd",
   "metadata": {},
   "outputs": [
    {
     "ename": "ModuleNotFoundError",
     "evalue": "No module named 'ipywidgets'",
     "output_type": "error",
     "traceback": [
      "\u001b[0;31m---------------------------------------------------------------------------\u001b[0m",
      "\u001b[0;31mModuleNotFoundError\u001b[0m                       Traceback (most recent call last)",
      "Input \u001b[0;32mIn [1]\u001b[0m, in \u001b[0;36m<cell line: 10>\u001b[0;34m()\u001b[0m\n\u001b[1;32m      7\u001b[0m \u001b[38;5;28;01mimport\u001b[39;00m \u001b[38;5;21;01mcartopy\u001b[39;00m\u001b[38;5;21;01m.\u001b[39;00m\u001b[38;5;21;01mcrs\u001b[39;00m \u001b[38;5;28;01mas\u001b[39;00m \u001b[38;5;21;01mccrs\u001b[39;00m\n\u001b[1;32m      9\u001b[0m \u001b[38;5;66;03m#widgets for user interaction\u001b[39;00m\n\u001b[0;32m---> 10\u001b[0m \u001b[38;5;28;01mimport\u001b[39;00m \u001b[38;5;21;01mipywidgets\u001b[39;00m \u001b[38;5;28;01mas\u001b[39;00m \u001b[38;5;21;01mwidgets\u001b[39;00m\n\u001b[1;32m     12\u001b[0m \u001b[38;5;28;01mimport\u001b[39;00m \u001b[38;5;21;01mwarnings\u001b[39;00m\n\u001b[1;32m     13\u001b[0m warnings\u001b[38;5;241m.\u001b[39mfilterwarnings(\u001b[38;5;124m'\u001b[39m\u001b[38;5;124mignore\u001b[39m\u001b[38;5;124m'\u001b[39m)\n",
      "\u001b[0;31mModuleNotFoundError\u001b[0m: No module named 'ipywidgets'"
     ]
    }
   ],
   "source": [
    "#data visualization\n",
    "import matplotlib.pylab as plt\n",
    "from matplotlib import colors\n",
    "%matplotlib inline\n",
    "\n",
    "#used for map projections\n",
    "import cartopy.crs as ccrs\n",
    "\n",
    "#widgets for user interaction\n",
    "import ipywidgets as widgets\n",
    "\n",
    "import warnings\n",
    "warnings.filterwarnings('ignore')"
   ]
  },
  {
   "cell_type": "markdown",
   "id": "b1b6d756-981e-412a-9875-390c6c25301c",
   "metadata": {},
   "source": [
    "## Plot Data Class"
   ]
  },
  {
   "cell_type": "code",
   "execution_count": null,
   "id": "139a58ee-16cc-4bc9-808a-d5094aa1a811",
   "metadata": {},
   "outputs": [],
   "source": [
    "class PlotData:\n",
    "    \n",
    "    def __init__(self):\n",
    "        pass\n",
    "    \n",
    "    @classmethod\n",
    "    def plot_pmesh(self, selectionDf, figsize=(12,12), shrinkcbar=.1, delta_lon=75, delta_lat=75, \\\n",
    "                   map_proj=ccrs.PlateCarree(), xlims=None):\n",
    "        \n",
    "        df = selectionDf\n",
    "        \n",
    "        fig = plt.figure(figsize=figsize)\n",
    "\n",
    "        #collect lon, lat values to create coordinates\n",
    "        x = df['lon'].values                   \n",
    "        y = df['lat'].values\n",
    "        \n",
    "        points = map_proj.transform_points(ccrs.Geodetic(), x, y)\n",
    "        x = points[:, 0]\n",
    "        y = points[:, 1]\n",
    "\n",
    "        #plot coordinates\n",
    "        map_proj._threshold /= 100\n",
    "        ax = plt.axes(projection=map_proj, xlabel='long', ylabel='lats')\n",
    "        ax.set_global()\n",
    "        plt.title('Spatial selection of Argo profile locations on map')\n",
    "        sct = plt.scatter(x, y, c='r', s=15,zorder=3) \n",
    "\n",
    "        #specify boundaries for map plot\n",
    "        if not xlims:\n",
    "            xlims = [df['lon'].max() + delta_lon, df['lon'].min()- delta_lon]\n",
    "        ax.set_xlim(min(xlims), max(xlims))\n",
    "        ax.set_ylim(min(df['lat']) - delta_lat, max(df['lat']) + delta_lat)\n",
    "\n",
    "        ax.coastlines(zorder=1)\n",
    "        ax.stock_img()\n",
    "        ax.gridlines()\n",
    "        return fig\n",
    "    \n",
    "    @classmethod\n",
    "    def create_prop_plot_widget(self, selectionDf):\n",
    "    \n",
    "        def property_plot_selection(self, x_col, y_col, z_col):\n",
    "\n",
    "            print('Recalculating....')\n",
    "\n",
    "            fig, ax = plt.subplots()    \n",
    "\n",
    "            cmap_iter = len(selectionDf.groupby([z_col]))\n",
    "\n",
    "            i = 0\n",
    "\n",
    "            #create color map array \n",
    "            colors = plt.cm.jet(np.linspace(0, 1, cmap_iter))\n",
    "\n",
    "            #group lines by z-variable\n",
    "            for key, group in selectionDf.groupby([z_col]):\n",
    "                ax = group.plot(ax=ax, kind='line', x=x_col, y=y_col, color = colors[i], label=key, figsize=(15,10), alpha=0.5)\n",
    "                i += 1\n",
    "\n",
    "            #inverse y-axis if pressure is chosen\n",
    "            if y_col == 'pres':\n",
    "                ax.set_ylim(ax.get_ylim()[::-1])\n",
    "\n",
    "            #generate plot\n",
    "            ax.set_title(unit_dict[x_col].split(' ')[0]+ ' vs. ' +unit_dict[y_col].split(' ')[0] + ' Argo profiles')\n",
    "            ax.set_xlabel(unit_dict[x_col])\n",
    "            ax.set_ylabel(unit_dict[y_col])\n",
    "            \n",
    "        #options for drop-drown menus\n",
    "        x = [('Temperature', 'temp'),('Pressure', 'pres'),('Salinity', 'psal')]\n",
    "        y = [('Pressure', 'pres'),('Temperature', 'temp'),('Salinity', 'psal'),('Longitude', 'lon'),('Latitude', 'lat')]\n",
    "        z = [('Profile ID', 'profile_id'),('Day', 'day'), ('Year', 'year'), ('Month', 'month')]\n",
    "\n",
    "        #initialize widgets\n",
    "        x_drop = widgets.Dropdown(options=x, val='Temperature', description='X-variable', disabled=False)\n",
    "        y_drop = widgets.Dropdown(options=y, val='Pressure', description='Y-variable', disabled=False)\n",
    "        z_drop = widgets.Dropdown(options=z, val='Profile ID', description='Z-variable', disabled=False)\n",
    "        widgets.VBox([x_drop, y_drop, z_drop])\n",
    "        \n",
    "        plot_shape = widgets.interact(property_plot_selection, x_col=x_drop, y_col=y_drop, z_col=z_drop)\n",
    "\n",
    "        return plot_shape\n",
    "    \n",
    "    def create_scatter_plot_widget(self, selectionDf):\n",
    "        \n",
    "        def scatter_plot_selection(x_col, z_col, num_ints, y_col='pres'):\n",
    "            \n",
    "            print('Recalculating....')\n",
    "            fig, ax = plt.subplots()\n",
    "            fig.set_size_inches(18.5, 10.5)\n",
    "\n",
    "            c_step = (max(selectionDf[z_col])-min(selectionDf[z_col]))/num_ints\n",
    "            \n",
    "            cmap = plt.cm.rainbow\n",
    "            \n",
    "            norm = colors.BoundaryNorm(np.arange(min(selectionDf[z_col]), max(selectionDf[z_col]), c_step), cmap.N)\n",
    "\n",
    "            #group lines by z-variable\n",
    "            plt.scatter(selectionDf[x_col], selectionDf[y_col], c=selectionDf[z_col], cmap=cmap, s=50, norm=norm)\n",
    "            plt.colorbar(ticks=np.linspace(max(selectionDf[z_col])+1, min(selectionDf[z_col]), num_ints+1))\n",
    "\n",
    "            #inverse y-axis for pressure\n",
    "            ax.set_ylim(ax.get_ylim()[::-1])\n",
    "\n",
    "            #generate plot\n",
    "            ax.set_title(unit_dict[x_col].split(' ')[0]+ ' vs. Pressure Argo profiles')\n",
    "            ax.set_xlabel(unit_dict[x_col])\n",
    "            plt.xticks([])\n",
    "            ax.set_ylabel('Pressure [dbar]')\n",
    "            \n",
    "        #options for drop-drown menus\n",
    "        x_option = [('Time', 'date'),('Longitude', 'lon'),('Latitude', 'lat')]\n",
    "        z_option = [('Temperature', 'temp'),('Salinity', 'psal')]\n",
    "\n",
    "        x_pick = widgets.Dropdown(options=x_option, val='Time', description='X-variable', disabled=False)\n",
    "        z_pick = widgets.Dropdown(options=z_option, val='Temperature', description='Z-variable', disabled=False)\n",
    "\n",
    "        widgets.VBox([x_pick, z_pick])\n",
    "        \n",
    "        scatter_shape = widgets.interact(scatter_plot_selection, x_col=x_pick, z_col=z_pick, num_ints=10)\n",
    "        \n",
    "        return scatter_shape\n",
    "    "
   ]
  }
 ],
 "metadata": {
  "kernelspec": {
   "display_name": "Python 3 (ipykernel)",
   "language": "python",
   "name": "python3"
  },
  "language_info": {
   "codemirror_mode": {
    "name": "ipython",
    "version": 3
   },
   "file_extension": ".py",
   "mimetype": "text/x-python",
   "name": "python",
   "nbconvert_exporter": "python",
   "pygments_lexer": "ipython3",
   "version": "3.9.12"
  }
 },
 "nbformat": 4,
 "nbformat_minor": 5
}
