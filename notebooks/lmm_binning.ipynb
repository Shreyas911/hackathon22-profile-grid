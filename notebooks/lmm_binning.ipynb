{
 "cells": [
  {
   "cell_type": "markdown",
   "id": "d4e4771c-fb25-42ff-b4e0-6d8088912245",
   "metadata": {},
   "source": [
    "# Bin profiles"
   ]
  },
  {
   "cell_type": "markdown",
   "id": "1a659dcd-fa03-407e-a81b-86baa9153bc7",
   "metadata": {},
   "source": [
    "## Import packages"
   ]
  },
  {
   "cell_type": "code",
   "execution_count": 1,
   "id": "3520dd4a-bbae-474f-bd92-3c86917d04be",
   "metadata": {},
   "outputs": [],
   "source": [
    "import ipywidgets as widgets\n",
    "from IPython.display import display, HTML, clear_output"
   ]
  },
  {
   "cell_type": "markdown",
   "id": "05a70a7c-b63a-4330-ab93-4d7d33e3737a",
   "metadata": {},
   "source": [
    "## Import fetch data notebook"
   ]
  },
  {
   "cell_type": "code",
   "execution_count": 2,
   "id": "237fda77-c06f-4038-8fb7-0b0d4fe7d6af",
   "metadata": {},
   "outputs": [],
   "source": [
    "# fetch_data_notebook = 'lmm_fetch_data.ipynb'\n",
    "\n",
    "# %run {fetch_data_notebook}\n",
    "\n",
    "# plot_data_notebook = 'lmm_plot_data.ipynb'\n",
    "\n",
    "# %run {plot_data_notebook}\n",
    "\n",
    "fetch_data_notebook = 'fetch_argo.ipynb'\n",
    "\n",
    "%run {fetch_data_notebook}"
   ]
  },
  {
   "cell_type": "markdown",
   "id": "8cd3abed-e2dd-4a06-9aa4-7c1e5451e4a3",
   "metadata": {},
   "source": [
    "## Import data binning notebook"
   ]
  },
  {
   "cell_type": "code",
   "execution_count": 3,
   "id": "f9bcdf42-804f-4cec-aa91-d3e1e8b0a10a",
   "metadata": {},
   "outputs": [],
   "source": [
    "data_binner_notebook = 'lmm_data_binner.ipynb'\n",
    "\n",
    "%run {data_binner_notebook}"
   ]
  },
  {
   "cell_type": "markdown",
   "id": "5fc04964-2db9-4526-88c9-7a76603fdc19",
   "metadata": {},
   "source": [
    "## Retrieve data from Argovis"
   ]
  },
  {
   "cell_type": "code",
   "execution_count": 4,
   "id": "93e90b3f-9718-4869-8944-18be7d95073e",
   "metadata": {},
   "outputs": [],
   "source": [
    "# start_date = '2020-1-01'\n",
    "# end_date = '2020-01-03'\n",
    "# pressure_range = '[0,500]'\n",
    "# region = 'atlantic_coords'\n",
    "# argo_source = 'argo_core'\n",
    "\n",
    "# fetch_obj = ArgovisDataImporter(start_date, end_date, pressure_range, source=argo_source, region=region)\n",
    "\n",
    "# df = fetch_obj.get_cleaned_profile()\n",
    "\n",
    "# len(df)"
   ]
  },
  {
   "cell_type": "code",
   "execution_count": 5,
   "id": "61bd6f0e-bdf4-488e-b013-d7d8c9bc647d",
   "metadata": {},
   "outputs": [],
   "source": [
    "atlantic_coords = [[-40.078125,29.840644],[-33.368671,30.338837],[-26.614528,30.492027],\n",
    "                    [-19.863281,30.297018],[-20.039063,-30.145127],[-26.724822,-30.384017],\n",
    "                    [-33.419918,-30.281826],[-40.078125,-29.840644],[-40.078125,29.840644]]\n",
    "presRange ='[0,500]'\n",
    "shape = str(atlantic_coords)\n",
    "URL_PREFIX = 'https://argovis-api.colorado.edu'\n",
    "startDate = '2021-04-20T00:00:00Z'\n",
    "endDate   = '2021-05-02T00:00:00Z'\n"
   ]
  },
  {
   "cell_type": "code",
   "execution_count": 6,
   "id": "2a8b503b-5126-42f5-a47f-35d11f228e78",
   "metadata": {},
   "outputs": [
    {
     "name": "stdout",
     "output_type": "stream",
     "text": [
      "Number of items: 309\n",
      "https://argovis-api.colorado.edu/profiles?&startDate=2021-04-20T00:00:00Z&endDate=2021-05-02T23:59:59Z&polygon=[[-40.078125, 29.840644], [-33.368671, 30.338837], [-26.614528, 30.492027], [-19.863281, 30.297018], [-20.039063, -30.145127], [-26.724822, -30.384017], [-33.419918, -30.281826], [-40.078125, -29.840644], [-40.078125, 29.840644]]&data=psal,temp,psal_argoqc,pres_argoqc,temp_argoqc&source=argo_core\n"
     ]
    }
   ],
   "source": [
    "df = get_data_for_timeRange(startDate=startDate,endDate=endDate, \\\n",
    "                                url_prefix=URL_PREFIX+'/profiles?', \\\n",
    "                                myAPIkey='', \\\n",
    "                                source='argo_core', \\\n",
    "                                polygon=shape, data='psal,temp,psal_argoqc,pres_argoqc,temp_argoqc', \\\n",
    "                                dt_tag='365d',writeFlag=True)"
   ]
  },
  {
   "cell_type": "code",
   "execution_count": 7,
   "id": "67126836-8f38-4495-8185-fad5c04ac835",
   "metadata": {},
   "outputs": [
    {
     "name": "stdout",
     "output_type": "stream",
     "text": [
      "Index(['_id', 'cycle_number', 'basin', 'data_type', 'geolocation',\n",
      "       'instrument', 'timestamp', 'date_updated_argovis', 'fleetmonitoring',\n",
      "       'oceanops', 'profile_direction', 'platform_id', 'data_center',\n",
      "       'pi_name', 'geolocation_argoqc', 'timestamp_argoqc', 'platform_type',\n",
      "       'positioning_system', 'vertical_sampling_scheme', 'wmo_inst_type',\n",
      "       'source_info', 'data_keys', 'data_keys_mode', 'data', 'data_warning'],\n",
      "      dtype='object')\n"
     ]
    },
    {
     "data": {
      "text/html": [
       "<div>\n",
       "<style scoped>\n",
       "    .dataframe tbody tr th:only-of-type {\n",
       "        vertical-align: middle;\n",
       "    }\n",
       "\n",
       "    .dataframe tbody tr th {\n",
       "        vertical-align: top;\n",
       "    }\n",
       "\n",
       "    .dataframe thead th {\n",
       "        text-align: right;\n",
       "    }\n",
       "</style>\n",
       "<table border=\"1\" class=\"dataframe\">\n",
       "  <thead>\n",
       "    <tr style=\"text-align: right;\">\n",
       "      <th></th>\n",
       "      <th>_id</th>\n",
       "      <th>geolocation</th>\n",
       "      <th>instrument</th>\n",
       "      <th>timestamp</th>\n",
       "      <th>source_info</th>\n",
       "      <th>platform_type</th>\n",
       "      <th>data</th>\n",
       "    </tr>\n",
       "  </thead>\n",
       "  <tbody>\n",
       "    <tr>\n",
       "      <th>0</th>\n",
       "      <td>3901237_157</td>\n",
       "      <td>{'type': 'Point', 'coordinates': [-28.68579, -...</td>\n",
       "      <td>profiling_float</td>\n",
       "      <td>2021-05-02T21:31:23.002Z</td>\n",
       "      <td>[{'source': ['argo_core'], 'source_url': 'ftp:...</td>\n",
       "      <td>S2A</td>\n",
       "      <td>[{'pres': 1.12, 'pres_argoqc': 1, 'psal': 37.2...</td>\n",
       "    </tr>\n",
       "    <tr>\n",
       "      <th>1</th>\n",
       "      <td>7900500_160</td>\n",
       "      <td>{'type': 'Point', 'coordinates': [-21.84100000...</td>\n",
       "      <td>profiling_float</td>\n",
       "      <td>2021-05-02T20:36:20.000Z</td>\n",
       "      <td>[{'source': ['argo_core'], 'source_url': 'ftp:...</td>\n",
       "      <td>APEX</td>\n",
       "      <td>[{'pres': 5.1, 'pres_argoqc': 1, 'psal': 36.30...</td>\n",
       "    </tr>\n",
       "    <tr>\n",
       "      <th>2</th>\n",
       "      <td>3901537_130</td>\n",
       "      <td>{'type': 'Point', 'coordinates': [-34.3002, -2...</td>\n",
       "      <td>profiling_float</td>\n",
       "      <td>2021-05-02T19:18:07.000Z</td>\n",
       "      <td>[{'source': ['argo_core'], 'source_url': 'ftp:...</td>\n",
       "      <td>APEX</td>\n",
       "      <td>[{'pres': 3.2, 'pres_argoqc': 1, 'psal': 37.31...</td>\n",
       "    </tr>\n",
       "    <tr>\n",
       "      <th>3</th>\n",
       "      <td>3902207_065D</td>\n",
       "      <td>{'type': 'Point', 'coordinates': [-23.18054, -...</td>\n",
       "      <td>profiling_float</td>\n",
       "      <td>2021-05-02T18:24:24.001Z</td>\n",
       "      <td>[{'source': ['argo_core', 'argo_deep'], 'sourc...</td>\n",
       "      <td>SOLO_D_MRV</td>\n",
       "      <td>[{'pres': 0.6, 'pres_argoqc': 1, 'psal': 36.25...</td>\n",
       "    </tr>\n",
       "    <tr>\n",
       "      <th>4</th>\n",
       "      <td>3902398_056</td>\n",
       "      <td>{'type': 'Point', 'coordinates': [-24.3388, -2...</td>\n",
       "      <td>profiling_float</td>\n",
       "      <td>2021-05-02T17:36:28.000Z</td>\n",
       "      <td>[{'source': ['argo_core'], 'source_url': 'ftp:...</td>\n",
       "      <td>APEX</td>\n",
       "      <td>[{'pres': 5.5, 'pres_argoqc': 1, 'psal': 37.15...</td>\n",
       "    </tr>\n",
       "  </tbody>\n",
       "</table>\n",
       "</div>"
      ],
      "text/plain": [
       "            _id                                        geolocation  \\\n",
       "0   3901237_157  {'type': 'Point', 'coordinates': [-28.68579, -...   \n",
       "1   7900500_160  {'type': 'Point', 'coordinates': [-21.84100000...   \n",
       "2   3901537_130  {'type': 'Point', 'coordinates': [-34.3002, -2...   \n",
       "3  3902207_065D  {'type': 'Point', 'coordinates': [-23.18054, -...   \n",
       "4   3902398_056  {'type': 'Point', 'coordinates': [-24.3388, -2...   \n",
       "\n",
       "        instrument                 timestamp  \\\n",
       "0  profiling_float  2021-05-02T21:31:23.002Z   \n",
       "1  profiling_float  2021-05-02T20:36:20.000Z   \n",
       "2  profiling_float  2021-05-02T19:18:07.000Z   \n",
       "3  profiling_float  2021-05-02T18:24:24.001Z   \n",
       "4  profiling_float  2021-05-02T17:36:28.000Z   \n",
       "\n",
       "                                         source_info platform_type  \\\n",
       "0  [{'source': ['argo_core'], 'source_url': 'ftp:...           S2A   \n",
       "1  [{'source': ['argo_core'], 'source_url': 'ftp:...          APEX   \n",
       "2  [{'source': ['argo_core'], 'source_url': 'ftp:...          APEX   \n",
       "3  [{'source': ['argo_core', 'argo_deep'], 'sourc...    SOLO_D_MRV   \n",
       "4  [{'source': ['argo_core'], 'source_url': 'ftp:...          APEX   \n",
       "\n",
       "                                                data  \n",
       "0  [{'pres': 1.12, 'pres_argoqc': 1, 'psal': 37.2...  \n",
       "1  [{'pres': 5.1, 'pres_argoqc': 1, 'psal': 36.30...  \n",
       "2  [{'pres': 3.2, 'pres_argoqc': 1, 'psal': 37.31...  \n",
       "3  [{'pres': 0.6, 'pres_argoqc': 1, 'psal': 36.25...  \n",
       "4  [{'pres': 5.5, 'pres_argoqc': 1, 'psal': 37.15...  "
      ]
     },
     "execution_count": 7,
     "metadata": {},
     "output_type": "execute_result"
    }
   ],
   "source": [
    "print(df.columns)\n",
    "\n",
    "profile_vars = ['_id', 'geolocation', 'instrument', 'timestamp', 'source_info', 'platform_type', 'data']\n",
    "\n",
    "df_subset = df[profile_vars]\n",
    "df_subset.head()"
   ]
  },
  {
   "cell_type": "code",
   "execution_count": 8,
   "id": "d0e7e1fb-d123-4b40-9025-ab7ed03bc91e",
   "metadata": {},
   "outputs": [
    {
     "name": "stdout",
     "output_type": "stream",
     "text": [
      "Index(['_id', 'instrument', 'timestamp', 'source_info', 'platform_type',\n",
      "       'data', 'lon', 'lat'],\n",
      "      dtype='object')\n"
     ]
    }
   ],
   "source": [
    "df_subset = expand_lon_lat(df_subset)\n",
    "\n",
    "print(df_subset.columns)"
   ]
  },
  {
   "cell_type": "code",
   "execution_count": 9,
   "id": "df41fe55-2005-4518-ae34-c6f5a2044803",
   "metadata": {},
   "outputs": [
    {
     "name": "stdout",
     "output_type": "stream",
     "text": [
      "Index(['_id', 'instrument', 'timestamp', 'platform_type', 'data', 'lon', 'lat',\n",
      "       'source'],\n",
      "      dtype='object')\n"
     ]
    }
   ],
   "source": [
    "df_subset = expand_source_info(df_subset)\n",
    "\n",
    "print(df_subset.columns)\n",
    "\n"
   ]
  },
  {
   "cell_type": "code",
   "execution_count": 10,
   "id": "a32443cd-4fde-4129-9fe6-22aad291b93a",
   "metadata": {},
   "outputs": [
    {
     "name": "stdout",
     "output_type": "stream",
     "text": [
      "Index(['_id', 'instrument', 'timestamp', 'platform_type', 'data', 'lon', 'lat',\n",
      "       'source'],\n",
      "      dtype='object')\n"
     ]
    }
   ],
   "source": [
    "print(df_subset.columns)\n",
    "\n",
    "parsed_df = lmm_parse_df(df_subset)"
   ]
  },
  {
   "cell_type": "code",
   "execution_count": 11,
   "id": "c5ac5248-904d-4b04-82b8-905f20e0a1a6",
   "metadata": {
    "tags": []
   },
   "outputs": [
    {
     "data": {
      "text/html": [
       "<div>\n",
       "<style scoped>\n",
       "    .dataframe tbody tr th:only-of-type {\n",
       "        vertical-align: middle;\n",
       "    }\n",
       "\n",
       "    .dataframe tbody tr th {\n",
       "        vertical-align: top;\n",
       "    }\n",
       "\n",
       "    .dataframe thead th {\n",
       "        text-align: right;\n",
       "    }\n",
       "</style>\n",
       "<table border=\"1\" class=\"dataframe\">\n",
       "  <thead>\n",
       "    <tr style=\"text-align: right;\">\n",
       "      <th></th>\n",
       "      <th>pres</th>\n",
       "      <th>pres_argoqc</th>\n",
       "      <th>psal</th>\n",
       "      <th>psal_argoqc</th>\n",
       "      <th>temp</th>\n",
       "      <th>temp_argoqc</th>\n",
       "      <th>profile_id</th>\n",
       "      <th>instrument</th>\n",
       "      <th>timestamp</th>\n",
       "      <th>platform_type</th>\n",
       "      <th>lon</th>\n",
       "      <th>lat</th>\n",
       "      <th>source</th>\n",
       "    </tr>\n",
       "  </thead>\n",
       "  <tbody>\n",
       "    <tr>\n",
       "      <th>0</th>\n",
       "      <td>1.12</td>\n",
       "      <td>1</td>\n",
       "      <td>37.294998</td>\n",
       "      <td>1.0</td>\n",
       "      <td>26.806999</td>\n",
       "      <td>1.0</td>\n",
       "      <td>3901237_157</td>\n",
       "      <td>profiling_float</td>\n",
       "      <td>2021-05-02T21:31:23.002Z</td>\n",
       "      <td>S2A</td>\n",
       "      <td>-28.68579</td>\n",
       "      <td>-20.5408</td>\n",
       "      <td>argo_core</td>\n",
       "    </tr>\n",
       "    <tr>\n",
       "      <th>1</th>\n",
       "      <td>2.04</td>\n",
       "      <td>1</td>\n",
       "      <td>37.293999</td>\n",
       "      <td>1.0</td>\n",
       "      <td>26.806</td>\n",
       "      <td>1.0</td>\n",
       "      <td>3901237_157</td>\n",
       "      <td>profiling_float</td>\n",
       "      <td>2021-05-02T21:31:23.002Z</td>\n",
       "      <td>S2A</td>\n",
       "      <td>-28.68579</td>\n",
       "      <td>-20.5408</td>\n",
       "      <td>argo_core</td>\n",
       "    </tr>\n",
       "    <tr>\n",
       "      <th>2</th>\n",
       "      <td>3.00</td>\n",
       "      <td>1</td>\n",
       "      <td>37.293999</td>\n",
       "      <td>1.0</td>\n",
       "      <td>26.809</td>\n",
       "      <td>1.0</td>\n",
       "      <td>3901237_157</td>\n",
       "      <td>profiling_float</td>\n",
       "      <td>2021-05-02T21:31:23.002Z</td>\n",
       "      <td>S2A</td>\n",
       "      <td>-28.68579</td>\n",
       "      <td>-20.5408</td>\n",
       "      <td>argo_core</td>\n",
       "    </tr>\n",
       "    <tr>\n",
       "      <th>3</th>\n",
       "      <td>3.96</td>\n",
       "      <td>1</td>\n",
       "      <td>37.293999</td>\n",
       "      <td>1.0</td>\n",
       "      <td>26.808001</td>\n",
       "      <td>1.0</td>\n",
       "      <td>3901237_157</td>\n",
       "      <td>profiling_float</td>\n",
       "      <td>2021-05-02T21:31:23.002Z</td>\n",
       "      <td>S2A</td>\n",
       "      <td>-28.68579</td>\n",
       "      <td>-20.5408</td>\n",
       "      <td>argo_core,argo_deep</td>\n",
       "    </tr>\n",
       "    <tr>\n",
       "      <th>4</th>\n",
       "      <td>4.96</td>\n",
       "      <td>1</td>\n",
       "      <td>37.293999</td>\n",
       "      <td>1.0</td>\n",
       "      <td>26.808001</td>\n",
       "      <td>1.0</td>\n",
       "      <td>3901237_157</td>\n",
       "      <td>profiling_float</td>\n",
       "      <td>2021-05-02T21:31:23.002Z</td>\n",
       "      <td>S2A</td>\n",
       "      <td>-28.68579</td>\n",
       "      <td>-20.5408</td>\n",
       "      <td>argo_core</td>\n",
       "    </tr>\n",
       "  </tbody>\n",
       "</table>\n",
       "</div>"
      ],
      "text/plain": [
       "   pres  pres_argoqc       psal  psal_argoqc       temp  temp_argoqc  \\\n",
       "0  1.12            1  37.294998          1.0  26.806999          1.0   \n",
       "1  2.04            1  37.293999          1.0     26.806          1.0   \n",
       "2  3.00            1  37.293999          1.0     26.809          1.0   \n",
       "3  3.96            1  37.293999          1.0  26.808001          1.0   \n",
       "4  4.96            1  37.293999          1.0  26.808001          1.0   \n",
       "\n",
       "    profile_id       instrument                 timestamp platform_type  \\\n",
       "0  3901237_157  profiling_float  2021-05-02T21:31:23.002Z           S2A   \n",
       "1  3901237_157  profiling_float  2021-05-02T21:31:23.002Z           S2A   \n",
       "2  3901237_157  profiling_float  2021-05-02T21:31:23.002Z           S2A   \n",
       "3  3901237_157  profiling_float  2021-05-02T21:31:23.002Z           S2A   \n",
       "4  3901237_157  profiling_float  2021-05-02T21:31:23.002Z           S2A   \n",
       "\n",
       "        lon      lat               source  \n",
       "0 -28.68579 -20.5408            argo_core  \n",
       "1 -28.68579 -20.5408            argo_core  \n",
       "2 -28.68579 -20.5408            argo_core  \n",
       "3 -28.68579 -20.5408  argo_core,argo_deep  \n",
       "4 -28.68579 -20.5408            argo_core  "
      ]
     },
     "execution_count": 11,
     "metadata": {},
     "output_type": "execute_result"
    }
   ],
   "source": [
    "parsed_df.head()"
   ]
  },
  {
   "cell_type": "code",
   "execution_count": 12,
   "id": "de3f584d-f99f-447f-9654-a87acf735ab2",
   "metadata": {},
   "outputs": [],
   "source": [
    "# Filter to get argo_core\n",
    "\n",
    "# This takes too long\n",
    "\n",
    "# df = parsed_df.loc[parsed_df['source'].str.contains(\"['argo_core']\")]\n",
    "\n",
    "# print(df)\n",
    "\n",
    "#df = parsed_df.loc[parsed_df['source'].isin(['argo_core'])]\n",
    "\n",
    "#df = parsed_df.loc[parsed_df['source'].str.contains('argo_core')]"
   ]
  },
  {
   "cell_type": "code",
   "execution_count": 13,
   "id": "f6bc85c2-179b-487a-a778-683e3a52a85b",
   "metadata": {},
   "outputs": [
    {
     "name": "stdout",
     "output_type": "stream",
     "text": [
      "Index(['pres', 'pres_qc', 'psal', 'psal_qc', 'temp', 'temp_qc', 'profile_id',\n",
      "       'instrument', 'timestamp', 'platform_type', 'lon', 'lat', 'source'],\n",
      "      dtype='object')\n"
     ]
    }
   ],
   "source": [
    "# map column names so argo and goship the same\n",
    "\n",
    "name_mapping = {}\n",
    "name_mapping['psal_argoqc'] = 'psal_qc'\n",
    "name_mapping['temp_argoqc'] = 'temp_qc'\n",
    "name_mapping['pres_argoqc'] = 'pres_qc'\n",
    "\n",
    "df = parsed_df.rename(columns=name_mapping)\n",
    "\n",
    "print(df.columns)\n"
   ]
  },
  {
   "cell_type": "code",
   "execution_count": 14,
   "id": "b3232e74-dc70-4e38-8f7e-2aedb0970fe5",
   "metadata": {},
   "outputs": [],
   "source": [
    "class ShowProgressContextManager:\n",
    "    def __init__(self, out, command=''):\n",
    "        self.out = out\n",
    "        self.command = command\n",
    "        \n",
    "    def __enter__(self):\n",
    "        css_style = \"<style>span.start { margin:0; padding: 0; color: blue; }</style>\"\n",
    "        html_str = f'<span class=\"start\">Running {self.command}...</span>'\n",
    "       \n",
    "        with self.out:\n",
    "            display(HTML(css_style))\n",
    "            display(HTML(html_str))\n",
    "        \n",
    "    def __exit__(self, exc_type, exc_value, exc_tb):\n",
    "        \n",
    "        css_style = \"<style>span.end { margin: 0; padding: 0; color: green; }</style>\"\n",
    "        html_str = '<span class=\"end\">Finished</span>'\n",
    "        \n",
    "        with self.out:\n",
    "            display(HTML(css_style)) \n",
    "            display(HTML(html_str))"
   ]
  },
  {
   "cell_type": "markdown",
   "id": "0ad31d41-7e00-4210-83fb-c82937379ec2",
   "metadata": {},
   "source": [
    "## Create xarray dataset binned on pressure\n"
   ]
  },
  {
   "cell_type": "code",
   "execution_count": 15,
   "id": "91ac5e5f-4f3a-42e7-ba68-fa2f168b27b6",
   "metadata": {},
   "outputs": [
    {
     "data": {
      "application/vnd.jupyter.widget-view+json": {
       "model_id": "2271eb3b0d074c31b9206d2af5a6a122",
       "version_major": 2,
       "version_minor": 0
      },
      "text/plain": [
       "Output()"
      ]
     },
     "metadata": {},
     "output_type": "display_data"
    }
   ],
   "source": [
    "pressure_range = [0,500]\n",
    "pressure_bin_size = .1\n",
    "\n",
    "binner_obj = DataBinner(df, pressure_range, pressure_bin_size)\n",
    "\n",
    "out = widgets.Output()\n",
    "\n",
    "message = 'Create xarray dataset'\n",
    "\n",
    "with ShowProgressContextManager(out, message):\n",
    "    \n",
    "    ds_all = binner_obj.create_xarray()\n",
    "\n",
    "display(out)\n"
   ]
  },
  {
   "cell_type": "markdown",
   "id": "7c4b7445-fc85-4cdf-a9bb-143159f81532",
   "metadata": {},
   "source": [
    "### Look at dataset created"
   ]
  },
  {
   "cell_type": "code",
   "execution_count": 16,
   "id": "91ca6bf1-7a8b-42e8-9af3-929483b1df08",
   "metadata": {},
   "outputs": [
    {
     "name": "stdout",
     "output_type": "stream",
     "text": [
      "<xarray.Dataset>\n",
      "Dimensions:        (pres: 64832)\n",
      "Coordinates:\n",
      "  * pres           (pres) float64 1.15 1.95 3.05 3.95 ... 437.8 462.8 487.8\n",
      "    profile_id     (pres) <U12 '1901689_287' '1901689_287' ... '7900545_051'\n",
      "    instrument     (pres) <U15 'profiling_float' ... 'profiling_float'\n",
      "    timestamp      (pres) <U24 '2021-04-26T05:25:43.000Z' ... '2021-04-23T05:...\n",
      "    platform_type  (pres) <U10 'S2A' 'S2A' 'S2A' ... 'ARVOR' 'ARVOR' 'ARVOR'\n",
      "    lon            (pres) float64 -26.6 -26.6 -26.6 ... -23.12 -23.12 -23.12\n",
      "    lat            (pres) float64 5.886 5.886 5.886 5.886 ... 16.8 16.8 16.8\n",
      "Data variables:\n",
      "    temp           (pres) float64 28.33 28.33 28.33 28.33 ... 10.35 9.992 9.728\n",
      "    psal           (pres) float64 35.24 35.24 35.24 35.24 ... 35.22 35.18 35.16\n",
      "['pres', 'profile_id', 'instrument', 'timestamp', 'platform_type', 'lon', 'lat']\n",
      "['temp', 'psal']\n"
     ]
    }
   ],
   "source": [
    "print(ds_all)\n",
    "print(list(ds_all.coords))\n",
    "print(list(ds_all.keys()))\n"
   ]
  },
  {
   "cell_type": "markdown",
   "id": "8913f908-fc1f-4f60-9614-80f7a5182b1b",
   "metadata": {},
   "source": [
    "## Save dataset to netcdf\n",
    "\n",
    "Since limited on the number of data to download, consider saving to files and then combining when reading them all in"
   ]
  },
  {
   "cell_type": "code",
   "execution_count": 17,
   "id": "0ceab724-b923-4683-85be-66f029f505d9",
   "metadata": {},
   "outputs": [],
   "source": [
    "ds_all.to_netcdf('temp_psal_dataset.nc')"
   ]
  },
  {
   "cell_type": "markdown",
   "id": "179664f9-437b-4a2d-a541-e67caa3e7c5a",
   "metadata": {},
   "source": [
    "## Example queries"
   ]
  },
  {
   "cell_type": "code",
   "execution_count": 18,
   "id": "6641e364-0222-4f5d-a576-2c60a38c47bc",
   "metadata": {},
   "outputs": [
    {
     "data": {
      "text/plain": [
       "<matplotlib.collections.PathCollection at 0x1a3178ca0>"
      ]
     },
     "execution_count": 18,
     "metadata": {},
     "output_type": "execute_result"
    },
    {
     "data": {
      "image/png": "[encoded data removed]",
      "text/plain": [
       "<Figure size 864x576 with 1 Axes>"
      ]
     },
     "metadata": {
      "needs_background": "light"
     },
     "output_type": "display_data"
    }
   ],
   "source": [
    "xr.plot.scatter(ds_all,'pres', 'temp', size=8)"
   ]
  },
  {
   "cell_type": "markdown",
   "id": "5e3023fd-f54e-41f6-9e04-d0d5238ea6a7",
   "metadata": {},
   "source": [
    "# TODO\n",
    "\n",
    "Can't bin on time yet since only have the timestamp variable"
   ]
  },
  {
   "cell_type": "markdown",
   "id": "315ee1fb-316b-4b19-b42e-8b8f121890a3",
   "metadata": {},
   "source": [
    "### Select all values where day = 2"
   ]
  },
  {
   "cell_type": "code",
   "execution_count": 19,
   "id": "9a671dbe-45e9-4948-959d-e49bd927d9a2",
   "metadata": {},
   "outputs": [
    {
     "ename": "AttributeError",
     "evalue": "'Dataset' object has no attribute 'day'",
     "output_type": "error",
     "traceback": [
      "\u001b[0;31m---------------------------------------------------------------------------\u001b[0m",
      "\u001b[0;31mAttributeError\u001b[0m                            Traceback (most recent call last)",
      "Input \u001b[0;32mIn [19]\u001b[0m, in \u001b[0;36m<cell line: 1>\u001b[0;34m()\u001b[0m\n\u001b[0;32m----> 1\u001b[0m a \u001b[38;5;241m=\u001b[39m ds_all\u001b[38;5;241m.\u001b[39mwhere(\u001b[43mds_all\u001b[49m\u001b[38;5;241;43m.\u001b[39;49m\u001b[43mday\u001b[49m \u001b[38;5;241m==\u001b[39m \u001b[38;5;241m2\u001b[39m, drop\u001b[38;5;241m=\u001b[39m\u001b[38;5;28;01mTrue\u001b[39;00m)\n\u001b[1;32m      2\u001b[0m \u001b[38;5;28mprint\u001b[39m(a)\n",
      "File \u001b[0;32m~/miniconda3/envs/argovis_grid/lib/python3.9/site-packages/xarray/core/common.py:239\u001b[0m, in \u001b[0;36mAttrAccessMixin.__getattr__\u001b[0;34m(self, name)\u001b[0m\n\u001b[1;32m    237\u001b[0m         \u001b[38;5;28;01mwith\u001b[39;00m suppress(\u001b[38;5;167;01mKeyError\u001b[39;00m):\n\u001b[1;32m    238\u001b[0m             \u001b[38;5;28;01mreturn\u001b[39;00m source[name]\n\u001b[0;32m--> 239\u001b[0m \u001b[38;5;28;01mraise\u001b[39;00m \u001b[38;5;167;01mAttributeError\u001b[39;00m(\n\u001b[1;32m    240\u001b[0m     \u001b[38;5;124mf\u001b[39m\u001b[38;5;124m\"\u001b[39m\u001b[38;5;132;01m{\u001b[39;00m\u001b[38;5;28mtype\u001b[39m(\u001b[38;5;28mself\u001b[39m)\u001b[38;5;241m.\u001b[39m\u001b[38;5;18m__name__\u001b[39m\u001b[38;5;132;01m!r}\u001b[39;00m\u001b[38;5;124m object has no attribute \u001b[39m\u001b[38;5;132;01m{\u001b[39;00mname\u001b[38;5;132;01m!r}\u001b[39;00m\u001b[38;5;124m\"\u001b[39m\n\u001b[1;32m    241\u001b[0m )\n",
      "\u001b[0;31mAttributeError\u001b[0m: 'Dataset' object has no attribute 'day'"
     ]
    }
   ],
   "source": [
    "a = ds_all.where(ds_all.day == 2, drop=True)\n",
    "print(a)"
   ]
  },
  {
   "cell_type": "code",
   "execution_count": null,
   "id": "ee9b6d12-6167-4dc0-8584-19cc9ee2aa32",
   "metadata": {},
   "outputs": [],
   "source": [
    "xr.plot.scatter(a,'pres', 'temp', size=8)"
   ]
  },
  {
   "cell_type": "code",
   "execution_count": null,
   "id": "49fa6708-0aed-4807-a72d-db87c0e1fc0d",
   "metadata": {},
   "outputs": [],
   "source": [
    "ds_all_grouped = binner_obj.bin_on_time(ds_all, 'day')"
   ]
  },
  {
   "cell_type": "code",
   "execution_count": null,
   "id": "c6c65a9c-e210-4b7f-bb1e-e9fecbab5d21",
   "metadata": {},
   "outputs": [],
   "source": [
    "\n",
    "for name, group in ds_all_grouped:\n",
    "    pres = group['pres'].values\n",
    "    temp = group['temp'].data\n",
    "    psal = group['psal'].data\n",
    "    plt.plot(pres,temp)\n"
   ]
  },
  {
   "cell_type": "code",
   "execution_count": null,
   "id": "27556c69-2e6e-46a9-b585-806ee6c3dbf3",
   "metadata": {},
   "outputs": [],
   "source": []
  },
  {
   "cell_type": "code",
   "execution_count": null,
   "id": "49175c48-72e1-4dd7-bb93-76eec688b337",
   "metadata": {},
   "outputs": [],
   "source": []
  },
  {
   "cell_type": "code",
   "execution_count": null,
   "id": "b29c7528-1c33-4c80-a21f-1e2609623a33",
   "metadata": {},
   "outputs": [],
   "source": []
  }
 ],
 "metadata": {
  "kernelspec": {
   "display_name": "Python 3 (ipykernel)",
   "language": "python",
   "name": "python3"
  },
  "language_info": {
   "codemirror_mode": {
    "name": "ipython",
    "version": 3
   },
   "file_extension": ".py",
   "mimetype": "text/x-python",
   "name": "python",
   "nbconvert_exporter": "python",
   "pygments_lexer": "ipython3",
   "version": "3.9.12"
  }
 },
 "nbformat": 4,
 "nbformat_minor": 5
}
