{
 "cells": [
  {
   "cell_type": "markdown",
   "id": "d4e4771c-fb25-42ff-b4e0-6d8088912245",
   "metadata": {},
   "source": [
    "# Bin profiles"
   ]
  },
  {
   "cell_type": "markdown",
   "id": "1a659dcd-fa03-407e-a81b-86baa9153bc7",
   "metadata": {},
   "source": [
    "## Import packages"
   ]
  },
  {
   "cell_type": "code",
   "execution_count": null,
   "id": "3520dd4a-bbae-474f-bd92-3c86917d04be",
   "metadata": {},
   "outputs": [],
   "source": []
  },
  {
   "cell_type": "markdown",
   "id": "05a70a7c-b63a-4330-ab93-4d7d33e3737a",
   "metadata": {},
   "source": [
    "## Import notebook functions"
   ]
  },
  {
   "cell_type": "code",
   "execution_count": 1,
   "id": "237fda77-c06f-4038-8fb7-0b0d4fe7d6af",
   "metadata": {},
   "outputs": [],
   "source": [
    "fetch_data_notebook = 'lmm_fetch_data.ipynb'\n",
    "\n",
    "%run {fetch_data_notebook}\n",
    "\n",
    "plot_data_notebook = 'lmm_plot_data.ipynb'\n",
    "\n",
    "%run {plot_data_notebook}\n",
    "\n",
    "data_binner_notebook = 'lmm_data_binner.ipynb'\n",
    "\n",
    "%run {data_binner_notebook}"
   ]
  },
  {
   "cell_type": "markdown",
   "id": "5fc04964-2db9-4526-88c9-7a76603fdc19",
   "metadata": {},
   "source": [
    "## Retrieve data from Argovis"
   ]
  },
  {
   "cell_type": "markdown",
   "id": "e3340229-6ed5-44f2-86b4-79f797f60373",
   "metadata": {},
   "source": [
    "### Retrieve data as a dataframe"
   ]
  },
  {
   "cell_type": "code",
   "execution_count": 2,
   "id": "3b40704e-a2db-452d-8651-2cbfdff675e4",
   "metadata": {},
   "outputs": [],
   "source": [
    "# start_date = '2022-04-19'\n",
    "# end_date = '2022-05-03'\n",
    "# pressure_range ='[0,2000]'\n",
    "# shape = [[[-126.934838,15.938736],[-126.934838,12.139454],[-123.017771,12.283923],[-123.165585,15.583095],[-126.934838,15.938736]]]\n",
    "\n",
    "# fetch_obj = ArgovisDataImporter(start_date, end_date, pressure_range, shape=shape)\n",
    "\n",
    "# df = fetch_obj.get_cleaned_profile()\n",
    "# df.head()"
   ]
  },
  {
   "cell_type": "code",
   "execution_count": 3,
   "id": "93e90b3f-9718-4869-8944-18be7d95073e",
   "metadata": {},
   "outputs": [
    {
     "name": "stdout",
     "output_type": "stream",
     "text": [
      "https://argovis.colorado.edu/selection/profiles?startDate=2020-4-10&endDate=2020-4-29&shape=[[[-40.078125,29.840644],[-33.368671,30.338837],[-26.614528,30.492027],[-19.863281,30.297018],[-20.039063,-30.145127],[-26.724822,-30.384017],[-33.419918,-30.281826],[-40.078125,-29.840644],[-40.078125,29.840644]]]&presRange=[0,500]\n"
     ]
    },
    {
     "data": {
      "text/plain": [
       "76666"
      ]
     },
     "execution_count": 3,
     "metadata": {},
     "output_type": "execute_result"
    }
   ],
   "source": [
    "start_date = '2020-4-10'\n",
    "end_date = '2020-4-29'\n",
    "pressure_range = '[0,500]'\n",
    "region = 'atlantic_coords'\n",
    "\n",
    "fetch_obj = ArgovisDataImporter(start_date, end_date, pressure_range, region=region)\n",
    "\n",
    "df = fetch_obj.get_cleaned_profile()\n",
    "df.head()\n",
    "\n",
    "len(df)"
   ]
  },
  {
   "cell_type": "markdown",
   "id": "bca5ade5-fe14-49bf-adeb-62f46421e45e",
   "metadata": {},
   "source": [
    "### Create data binner"
   ]
  },
  {
   "cell_type": "code",
   "execution_count": 4,
   "id": "98098763-af59-4fb0-99e8-7f709c75a9c1",
   "metadata": {},
   "outputs": [],
   "source": [
    "data_binner_obj = DataBinner(df)"
   ]
  },
  {
   "cell_type": "markdown",
   "id": "6571c732-9b6d-4cce-b7ea-6a2f7b64f333",
   "metadata": {},
   "source": [
    "### Create list of dataframes grouped on profile_id\n",
    "\n",
    "What if bin each df by pressure first, and then combine into xarray?"
   ]
  },
  {
   "cell_type": "code",
   "execution_count": 5,
   "id": "6b0dc4b3-71cd-4c77-8460-a521bcfe55ab",
   "metadata": {},
   "outputs": [
    {
     "data": {
      "text/plain": [
       "411"
      ]
     },
     "execution_count": 5,
     "metadata": {},
     "output_type": "execute_result"
    }
   ],
   "source": [
    "df_grouped = data_binner_obj.get_df_grouped_by_id()\n",
    "\n",
    "len(df_grouped)"
   ]
  },
  {
   "cell_type": "code",
   "execution_count": null,
   "id": "5f8cd2fd-9e69-4f61-abe4-0b80141cae55",
   "metadata": {},
   "outputs": [],
   "source": []
  },
  {
   "cell_type": "markdown",
   "id": "f9018643-dd53-42ed-94b7-b33cbee1b250",
   "metadata": {},
   "source": [
    "### For each df, turn into an xarray, then bin the pressure, and after finish list, recombine on pressure"
   ]
  },
  {
   "cell_type": "code",
   "execution_count": 6,
   "id": "74d134f1-7440-4f63-bd22-ec97c1b375c6",
   "metadata": {},
   "outputs": [],
   "source": [
    "# bin_size = 1\n",
    "\n",
    "\n",
    "for group_name, df_group in df_grouped:\n",
    "    \n",
    "    data_binner_obj = DataBinner(df_group)\n",
    "    \n",
    "    ds = data_binner_obj.create_xarray()\n",
    "    \n",
    "    psal_mean = data_binner_obj.bin_on_pressure('psal', bin_size)\n",
    "    temp_mean = data_binner_obj.bin_on_pressure('temp', bin_size)\n",
    "    \n",
    "    print(temp_mean)\n",
    "    \n",
    "    "
   ]
  },
  {
   "cell_type": "code",
   "execution_count": null,
   "id": "de680a19-6a03-4993-bdc4-724a0657898e",
   "metadata": {},
   "outputs": [],
   "source": []
  },
  {
   "cell_type": "code",
   "execution_count": null,
   "id": "28ff3083-3b60-4351-85cc-363d9c41e19f",
   "metadata": {},
   "outputs": [],
   "source": [
    "\n",
    "    "
   ]
  },
  {
   "cell_type": "code",
   "execution_count": null,
   "id": "eacc7c38-c58b-436f-b9f7-e4318c04fecf",
   "metadata": {},
   "outputs": [],
   "source": []
  },
  {
   "cell_type": "code",
   "execution_count": null,
   "id": "193e9e85-c1ea-4dfb-8395-eaf62ea9dc7e",
   "metadata": {},
   "outputs": [],
   "source": []
  },
  {
   "cell_type": "code",
   "execution_count": null,
   "id": "5d41cf95-25bb-4a28-86a9-351167a9f03b",
   "metadata": {},
   "outputs": [],
   "source": []
  },
  {
   "cell_type": "markdown",
   "id": "7fd2ea20-196b-4b34-842a-bd2f03fb5a01",
   "metadata": {},
   "source": [
    "### Create xarray from dataframe indexed on lat, lon, date, pres"
   ]
  },
  {
   "cell_type": "code",
   "execution_count": 7,
   "id": "358d5521-dbd3-4752-9501-a2a0a9de4237",
   "metadata": {},
   "outputs": [],
   "source": [
    "# ds = data_binner_obj.create_xarray()\n",
    "# ds"
   ]
  },
  {
   "cell_type": "code",
   "execution_count": 8,
   "id": "562f9eb7-4efa-4882-b6a7-958b0efc8f15",
   "metadata": {},
   "outputs": [],
   "source": [
    "#xr.plot.scatter(ds,'pres', 'psal', size=8)"
   ]
  },
  {
   "cell_type": "markdown",
   "id": "99e3869a-2cab-494d-af7c-471afd0fc2a9",
   "metadata": {},
   "source": [
    "## Bin on pressure and take the mean"
   ]
  },
  {
   "cell_type": "code",
   "execution_count": 9,
   "id": "f62393e2-615b-4af9-8300-55334b8d485d",
   "metadata": {},
   "outputs": [],
   "source": [
    "# bin_size = 1\n",
    "# param = 'psal'\n",
    "# psal_mean = data_binner_obj.bin_on_pressure(param, bin_size)\n",
    "\n",
    "# psal_mean.plot()"
   ]
  },
  {
   "cell_type": "code",
   "execution_count": null,
   "id": "63d7bfe5-6d85-4b17-ab31-97e9067c7e3e",
   "metadata": {},
   "outputs": [],
   "source": []
  },
  {
   "cell_type": "code",
   "execution_count": 10,
   "id": "91e65d99-a96b-4cfe-812f-f54ae10d6f0e",
   "metadata": {},
   "outputs": [],
   "source": [
    "# param = 'temp'\n",
    "# temp_mean = data_binner_obj.bin_on_pressure(param, bin_size)\n",
    "# temp_mean.plot()"
   ]
  },
  {
   "cell_type": "code",
   "execution_count": null,
   "id": "e0699856-8029-40f0-b9eb-5e6424cd0423",
   "metadata": {},
   "outputs": [],
   "source": []
  },
  {
   "cell_type": "code",
   "execution_count": 11,
   "id": "514dda64-8077-4555-8f9c-0b34e8d7c54e",
   "metadata": {},
   "outputs": [],
   "source": [
    "# param = 'temp'\n",
    "# time_interval = 'month'\n",
    "# temp_mean = data_binner_obj.bin_on_time(param, time_interval)\n",
    "# temp_mean.plot()"
   ]
  },
  {
   "cell_type": "code",
   "execution_count": null,
   "id": "c3aa9bc4-a43e-4d60-bfcf-11db1779fa32",
   "metadata": {},
   "outputs": [],
   "source": []
  },
  {
   "cell_type": "code",
   "execution_count": null,
   "id": "2277ba4b-0d93-40ed-916c-38fda8a444e3",
   "metadata": {},
   "outputs": [],
   "source": []
  }
 ],
 "metadata": {
  "kernelspec": {
   "display_name": "Python 3 (ipykernel)",
   "language": "python",
   "name": "python3"
  },
  "language_info": {
   "codemirror_mode": {
    "name": "ipython",
    "version": 3
   },
   "file_extension": ".py",
   "mimetype": "text/x-python",
   "name": "python",
   "nbconvert_exporter": "python",
   "pygments_lexer": "ipython3",
   "version": "3.9.12"
  }
 },
 "nbformat": 4,
 "nbformat_minor": 5
}
