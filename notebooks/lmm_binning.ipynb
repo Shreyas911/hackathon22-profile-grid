{
 "cells": [
  {
   "cell_type": "markdown",
   "id": "d4e4771c-fb25-42ff-b4e0-6d8088912245",
   "metadata": {},
   "source": [
    "# Bin profiles"
   ]
  },
  {
   "cell_type": "markdown",
   "id": "1a659dcd-fa03-407e-a81b-86baa9153bc7",
   "metadata": {},
   "source": [
    "## Import packages"
   ]
  },
  {
   "cell_type": "code",
   "execution_count": 7,
   "id": "3520dd4a-bbae-474f-bd92-3c86917d04be",
   "metadata": {},
   "outputs": [],
   "source": [
    "import ipywidgets as widgets\n",
    "from IPython.display import display, HTML, clear_output\n",
    "\n",
    "from datetime import datetime\n",
    "from dateutil.relativedelta import relativedelta"
   ]
  },
  {
   "cell_type": "markdown",
   "id": "05a70a7c-b63a-4330-ab93-4d7d33e3737a",
   "metadata": {},
   "source": [
    "## Import fetch data notebook"
   ]
  },
  {
   "cell_type": "code",
   "execution_count": 2,
   "id": "237fda77-c06f-4038-8fb7-0b0d4fe7d6af",
   "metadata": {},
   "outputs": [],
   "source": [
    "# fetch_data_notebook = 'lmm_fetch_data.ipynb'\n",
    "\n",
    "# %run {fetch_data_notebook}\n",
    "\n",
    "# plot_data_notebook = 'lmm_plot_data.ipynb'\n",
    "\n",
    "# %run {plot_data_notebook}\n",
    "\n",
    "fetch_data_notebook = 'fetch_argo.ipynb'\n",
    "\n",
    "%run {fetch_data_notebook}"
   ]
  },
  {
   "cell_type": "markdown",
   "id": "8cd3abed-e2dd-4a06-9aa4-7c1e5451e4a3",
   "metadata": {},
   "source": [
    "## Import data binning notebook"
   ]
  },
  {
   "cell_type": "code",
   "execution_count": 3,
   "id": "f9bcdf42-804f-4cec-aa91-d3e1e8b0a10a",
   "metadata": {},
   "outputs": [],
   "source": [
    "data_binner_notebook = 'lmm_data_binner.ipynb'\n",
    "\n",
    "%run {data_binner_notebook}"
   ]
  },
  {
   "cell_type": "markdown",
   "id": "5fc04964-2db9-4526-88c9-7a76603fdc19",
   "metadata": {},
   "source": [
    "## Retrieve data from Argovis"
   ]
  },
  {
   "cell_type": "code",
   "execution_count": 4,
   "id": "93e90b3f-9718-4869-8944-18be7d95073e",
   "metadata": {},
   "outputs": [],
   "source": [
    "# start_date = '2020-1-01'\n",
    "# end_date = '2020-01-03'\n",
    "# pressure_range = '[0,500]'\n",
    "# region = 'atlantic_coords'\n",
    "# argo_source = 'argo_core'\n",
    "\n",
    "# fetch_obj = ArgovisDataImporter(start_date, end_date, pressure_range, source=argo_source, region=region)\n",
    "\n",
    "# df = fetch_obj.get_cleaned_profile()\n",
    "\n",
    "# len(df)"
   ]
  },
  {
   "cell_type": "code",
   "execution_count": 29,
   "id": "61bd6f0e-bdf4-488e-b013-d7d8c9bc647d",
   "metadata": {},
   "outputs": [
    {
     "name": "stdout",
     "output_type": "stream",
     "text": [
      "[('2021-01-01T00:00:00Z', '2021-01-31T00:00:00Z'), ('2021-02-01T00:00:00Z', '2021-02-28T00:00:00Z'), ('2021-03-01T00:00:00Z', '2021-03-31T00:00:00Z'), ('2021-04-01T00:00:00Z', '2021-04-30T00:00:00Z'), ('2021-05-01T00:00:00Z', '2021-05-31T00:00:00Z'), ('2021-06-01T00:00:00Z', '2021-06-30T00:00:00Z'), ('2021-07-01T00:00:00Z', '2021-07-31T00:00:00Z'), ('2021-08-01T00:00:00Z', '2021-08-31T00:00:00Z'), ('2021-09-01T00:00:00Z', '2021-09-30T00:00:00Z'), ('2021-10-01T00:00:00Z', '2021-10-31T00:00:00Z'), ('2021-11-01T00:00:00Z', '2021-11-30T00:00:00Z'), ('2021-12-01T00:00:00Z', '2021-12-31T00:00:00Z')]\n"
     ]
    }
   ],
   "source": [
    "atlantic_coords = [[-40.078125,29.840644],[-33.368671,30.338837],[-26.614528,30.492027],\n",
    "                    [-19.863281,30.297018],[-20.039063,-30.145127],[-26.724822,-30.384017],\n",
    "                    [-33.419918,-30.281826],[-40.078125,-29.840644],[-40.078125,29.840644]]\n",
    "presRange ='[0,500]'\n",
    "shape = str(atlantic_coords)\n",
    "#URL_PREFIX = 'https://argovis-api.colorado.edu'\n",
    "startDate = '2021-04-01T00:00:00Z'\n",
    "endDate   = '2021-05-31T00:00:00Z'\n",
    "\n",
    "start_date = datetime.strptime('2021-01-01T00:00:00', '%Y-%m-%dT%H:%M:%S')\n",
    "\n",
    "date_range = []\n",
    "\n",
    "for i in np.arange(1,13):\n",
    "    \n",
    "    end_date = start_date + relativedelta(months=1) - relativedelta(days=1)\n",
    "    \n",
    "    date_range.append((start_date, end_date))\n",
    "    \n",
    "    start_date = end_date + relativedelta(days=1)\n",
    "\n",
    "# Convert back to string\n",
    "date_range_str = []\n",
    "for i in date_range:\n",
    "    \n",
    "    start = i[0]\n",
    "    end = i[1]\n",
    "    \n",
    "    start = start.strftime(\"%Y-%m-%dT%H:%M:%SZ\")\n",
    "    end = end.strftime(\"%Y-%m-%dT%H:%M:%SZ\")\n",
    "    \n",
    "    i_range = (start, end)\n",
    "    \n",
    "    date_range_str.append(i_range)\n",
    "    \n",
    "print(date_range_str)"
   ]
  },
  {
   "cell_type": "code",
   "execution_count": null,
   "id": "3e5a61fb-1b3b-40a0-8e21-141a3ab5074c",
   "metadata": {},
   "outputs": [
    {
     "name": "stdout",
     "output_type": "stream",
     "text": [
      "Number of items: 623\n",
      "https://argovis-api.colorado.edu/profiles?&startDate=2021-01-01T00:00:00Z&endDate=2021-01-31T23:59:59Z&polygon=[[-40.078125, 29.840644], [-33.368671, 30.338837], [-26.614528, 30.492027], [-19.863281, 30.297018], [-20.039063, -30.145127], [-26.724822, -30.384017], [-33.419918, -30.281826], [-40.078125, -29.840644], [-40.078125, 29.840644]]&data=psal,temp,psal_argoqc,pres_argoqc,temp_argoqc&source=argo_core\n",
      "Number of items: 551\n",
      "https://argovis-api.colorado.edu/profiles?&startDate=2021-02-01T00:00:00Z&endDate=2021-02-28T23:59:59Z&polygon=[[-40.078125, 29.840644], [-33.368671, 30.338837], [-26.614528, 30.492027], [-19.863281, 30.297018], [-20.039063, -30.145127], [-26.724822, -30.384017], [-33.419918, -30.281826], [-40.078125, -29.840644], [-40.078125, 29.840644]]&data=psal,temp,psal_argoqc,pres_argoqc,temp_argoqc&source=argo_core\n",
      "Number of items: 644\n",
      "https://argovis-api.colorado.edu/profiles?&startDate=2021-03-01T00:00:00Z&endDate=2021-03-31T23:59:59Z&polygon=[[-40.078125, 29.840644], [-33.368671, 30.338837], [-26.614528, 30.492027], [-19.863281, 30.297018], [-20.039063, -30.145127], [-26.724822, -30.384017], [-33.419918, -30.281826], [-40.078125, -29.840644], [-40.078125, 29.840644]]&data=psal,temp,psal_argoqc,pres_argoqc,temp_argoqc&source=argo_core\n",
      "Number of items: 784\n",
      "https://argovis-api.colorado.edu/profiles?&startDate=2021-04-01T00:00:00Z&endDate=2021-04-30T23:59:59Z&polygon=[[-40.078125, 29.840644], [-33.368671, 30.338837], [-26.614528, 30.492027], [-19.863281, 30.297018], [-20.039063, -30.145127], [-26.724822, -30.384017], [-33.419918, -30.281826], [-40.078125, -29.840644], [-40.078125, 29.840644]]&data=psal,temp,psal_argoqc,pres_argoqc,temp_argoqc&source=argo_core\n",
      "Number of items: 643\n",
      "https://argovis-api.colorado.edu/profiles?&startDate=2021-05-01T00:00:00Z&endDate=2021-05-31T23:59:59Z&polygon=[[-40.078125, 29.840644], [-33.368671, 30.338837], [-26.614528, 30.492027], [-19.863281, 30.297018], [-20.039063, -30.145127], [-26.724822, -30.384017], [-33.419918, -30.281826], [-40.078125, -29.840644], [-40.078125, 29.840644]]&data=psal,temp,psal_argoqc,pres_argoqc,temp_argoqc&source=argo_core\n"
     ]
    }
   ],
   "source": [
    "df = loop_fetch(shape, presRange, date_range_str)"
   ]
  },
  {
   "cell_type": "code",
   "execution_count": null,
   "id": "2a8b503b-5126-42f5-a47f-35d11f228e78",
   "metadata": {},
   "outputs": [],
   "source": [
    "print(len(df))\n",
    "print(df)\n",
    "print(df.columns)"
   ]
  },
  {
   "cell_type": "markdown",
   "id": "f9c21b52-4c87-446e-8aff-3b250994e666",
   "metadata": {},
   "source": [
    "## Save dataframe"
   ]
  },
  {
   "cell_type": "code",
   "execution_count": null,
   "id": "e83e232d-7f00-48f1-a327-f371a5d9b817",
   "metadata": {},
   "outputs": [],
   "source": [
    "df.to_csv('2021_argo_core_dataframe.csv')"
   ]
  },
  {
   "cell_type": "code",
   "execution_count": null,
   "id": "67126836-8f38-4495-8185-fad5c04ac835",
   "metadata": {},
   "outputs": [],
   "source": [
    "print(df.columns)\n",
    "\n",
    "profile_vars = ['_id', 'geolocation', 'timestamp', 'source_info', 'platform_type', 'data']\n",
    "\n",
    "df_subset = df[profile_vars]\n",
    "df_subset.head()"
   ]
  },
  {
   "cell_type": "code",
   "execution_count": null,
   "id": "d0e7e1fb-d123-4b40-9025-ab7ed03bc91e",
   "metadata": {},
   "outputs": [],
   "source": [
    "df_subset = expand_lon_lat(df_subset)\n",
    "\n",
    "print(df_subset.columns)"
   ]
  },
  {
   "cell_type": "code",
   "execution_count": null,
   "id": "df41fe55-2005-4518-ae34-c6f5a2044803",
   "metadata": {},
   "outputs": [],
   "source": [
    "df_subset = expand_source_info(df_subset)\n",
    "\n",
    "print(df_subset.columns)\n",
    "\n"
   ]
  },
  {
   "cell_type": "code",
   "execution_count": null,
   "id": "a32443cd-4fde-4129-9fe6-22aad291b93a",
   "metadata": {},
   "outputs": [],
   "source": [
    "print(df_subset.columns)\n",
    "\n",
    "parsed_df = lmm_parse_df(df_subset)"
   ]
  },
  {
   "cell_type": "code",
   "execution_count": null,
   "id": "c5ac5248-904d-4b04-82b8-905f20e0a1a6",
   "metadata": {
    "tags": []
   },
   "outputs": [],
   "source": [
    "parsed_df.head()"
   ]
  },
  {
   "cell_type": "code",
   "execution_count": null,
   "id": "de3f584d-f99f-447f-9654-a87acf735ab2",
   "metadata": {},
   "outputs": [],
   "source": [
    "# Filter to get argo_core\n",
    "\n",
    "# Gives error. Maybe because not finding argo_core string? why?\n",
    "\n",
    "#df = parsed_df.loc[parsed_df['source'].str.contains(\"argo_core\")]\n",
    "\n"
   ]
  },
  {
   "cell_type": "code",
   "execution_count": null,
   "id": "f6bc85c2-179b-487a-a778-683e3a52a85b",
   "metadata": {},
   "outputs": [],
   "source": [
    "# map column names so argo and goship the same\n",
    "\n",
    "name_mapping = {}\n",
    "name_mapping['psal_argoqc'] = 'psal_qc'\n",
    "name_mapping['temp_argoqc'] = 'temp_qc'\n",
    "name_mapping['pres_argoqc'] = 'pres_qc'\n",
    "\n",
    "df = parsed_df.rename(columns=name_mapping)\n",
    "\n",
    "print(df.columns)\n"
   ]
  },
  {
   "cell_type": "code",
   "execution_count": null,
   "id": "b3232e74-dc70-4e38-8f7e-2aedb0970fe5",
   "metadata": {},
   "outputs": [],
   "source": [
    "class ShowProgressContextManager:\n",
    "    def __init__(self, out, command=''):\n",
    "        self.out = out\n",
    "        self.command = command\n",
    "        \n",
    "    def __enter__(self):\n",
    "        css_style = \"<style>span.start { margin:0; padding: 0; color: blue; }</style>\"\n",
    "        html_str = f'<span class=\"start\">Running {self.command}...</span>'\n",
    "       \n",
    "        with self.out:\n",
    "            display(HTML(css_style))\n",
    "            display(HTML(html_str))\n",
    "        \n",
    "    def __exit__(self, exc_type, exc_value, exc_tb):\n",
    "        \n",
    "        css_style = \"<style>span.end { margin: 0; padding: 0; color: green; }</style>\"\n",
    "        html_str = '<span class=\"end\">Finished</span>'\n",
    "        \n",
    "        with self.out:\n",
    "            display(HTML(css_style)) \n",
    "            display(HTML(html_str))"
   ]
  },
  {
   "cell_type": "markdown",
   "id": "0ad31d41-7e00-4210-83fb-c82937379ec2",
   "metadata": {},
   "source": [
    "## Create xarray dataset binned on pressure\n"
   ]
  },
  {
   "cell_type": "code",
   "execution_count": null,
   "id": "91ac5e5f-4f3a-42e7-ba68-fa2f168b27b6",
   "metadata": {},
   "outputs": [],
   "source": [
    "pressure_range = [0,500]\n",
    "pressure_bin_size = 5\n",
    "\n",
    "binner_obj = DataBinner(df, pressure_range, pressure_bin_size)\n",
    "\n",
    "out = widgets.Output()\n",
    "\n",
    "message = 'Create xarray dataset'\n",
    "\n",
    "with ShowProgressContextManager(out, message):\n",
    "    \n",
    "    ds_all = binner_obj.create_xarray()\n",
    "\n",
    "display(out)\n"
   ]
  },
  {
   "cell_type": "markdown",
   "id": "b5986101-e532-4a06-bf09-526f709a5cd0",
   "metadata": {},
   "source": [
    "## Create xarray dataset without binning on pressure\n",
    "Make pressure a data variable, and not a coordinate\n",
    "\n",
    "Use index only as the coordinate. Make sure to reindex df so it is all unique"
   ]
  },
  {
   "cell_type": "markdown",
   "id": "7c4b7445-fc85-4cdf-a9bb-143159f81532",
   "metadata": {},
   "source": [
    "### Look at dataset created"
   ]
  },
  {
   "cell_type": "code",
   "execution_count": null,
   "id": "91ca6bf1-7a8b-42e8-9af3-929483b1df08",
   "metadata": {},
   "outputs": [],
   "source": [
    "print(ds_all)\n",
    "print(list(ds_all.coords))\n",
    "print(list(ds_all.keys()))\n"
   ]
  },
  {
   "cell_type": "markdown",
   "id": "8913f908-fc1f-4f60-9614-80f7a5182b1b",
   "metadata": {},
   "source": [
    "## Save dataset to netcdf\n",
    "\n",
    "Since limited on the number of data to download, consider saving to files and then combining when reading them all in"
   ]
  },
  {
   "cell_type": "code",
   "execution_count": null,
   "id": "0ceab724-b923-4683-85be-66f029f505d9",
   "metadata": {},
   "outputs": [],
   "source": [
    "ds_all.to_netcdf('temp_psal_dataset.nc')"
   ]
  },
  {
   "cell_type": "markdown",
   "id": "179664f9-437b-4a2d-a541-e67caa3e7c5a",
   "metadata": {},
   "source": [
    "## Example queries"
   ]
  },
  {
   "cell_type": "code",
   "execution_count": null,
   "id": "6641e364-0222-4f5d-a576-2c60a38c47bc",
   "metadata": {},
   "outputs": [],
   "source": [
    "xr.plot.scatter(ds_all,'pres', 'temp', size=8)"
   ]
  },
  {
   "cell_type": "markdown",
   "id": "5e3023fd-f54e-41f6-9e04-d0d5238ea6a7",
   "metadata": {},
   "source": [
    "# TODO\n",
    "\n",
    "Can't bin on time yet since only have the timestamp variable"
   ]
  },
  {
   "cell_type": "markdown",
   "id": "315ee1fb-316b-4b19-b42e-8b8f121890a3",
   "metadata": {},
   "source": [
    "### Select all values where day = 2"
   ]
  },
  {
   "cell_type": "code",
   "execution_count": null,
   "id": "9a671dbe-45e9-4948-959d-e49bd927d9a2",
   "metadata": {},
   "outputs": [],
   "source": [
    "a = ds_all.where(ds_all.day == 2, drop=True)\n",
    "print(a)"
   ]
  },
  {
   "cell_type": "code",
   "execution_count": null,
   "id": "ee9b6d12-6167-4dc0-8584-19cc9ee2aa32",
   "metadata": {},
   "outputs": [],
   "source": [
    "xr.plot.scatter(a,'pres', 'temp', size=8)"
   ]
  },
  {
   "cell_type": "code",
   "execution_count": null,
   "id": "49fa6708-0aed-4807-a72d-db87c0e1fc0d",
   "metadata": {},
   "outputs": [],
   "source": [
    "ds_all_grouped = binner_obj.bin_on_time(ds_all, 'day')"
   ]
  },
  {
   "cell_type": "code",
   "execution_count": null,
   "id": "c6c65a9c-e210-4b7f-bb1e-e9fecbab5d21",
   "metadata": {},
   "outputs": [],
   "source": [
    "\n",
    "for name, group in ds_all_grouped:\n",
    "    pres = group['pres'].values\n",
    "    temp = group['temp'].data\n",
    "    psal = group['psal'].data\n",
    "    plt.plot(pres,temp)\n"
   ]
  },
  {
   "cell_type": "code",
   "execution_count": null,
   "id": "27556c69-2e6e-46a9-b585-806ee6c3dbf3",
   "metadata": {},
   "outputs": [],
   "source": []
  },
  {
   "cell_type": "code",
   "execution_count": null,
   "id": "49175c48-72e1-4dd7-bb93-76eec688b337",
   "metadata": {},
   "outputs": [],
   "source": []
  },
  {
   "cell_type": "code",
   "execution_count": null,
   "id": "b29c7528-1c33-4c80-a21f-1e2609623a33",
   "metadata": {},
   "outputs": [],
   "source": []
  }
 ],
 "metadata": {
  "kernelspec": {
   "display_name": "Python 3 (ipykernel)",
   "language": "python",
   "name": "python3"
  },
  "language_info": {
   "codemirror_mode": {
    "name": "ipython",
    "version": 3
   },
   "file_extension": ".py",
   "mimetype": "text/x-python",
   "name": "python",
   "nbconvert_exporter": "python",
   "pygments_lexer": "ipython3",
   "version": "3.9.12"
  }
 },
 "nbformat": 4,
 "nbformat_minor": 5
}
